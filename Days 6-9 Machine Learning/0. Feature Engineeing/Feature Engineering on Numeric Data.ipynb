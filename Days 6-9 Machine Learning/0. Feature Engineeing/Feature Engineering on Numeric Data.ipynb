{
 "cells": [
  {
   "cell_type": "markdown",
   "metadata": {},
   "source": [
    "# Import necessary dependencies and settings"
   ]
  },
  {
   "cell_type": "code",
   "execution_count": 1,
   "metadata": {},
   "outputs": [],
   "source": [
    "import pandas as pd\n",
    "import matplotlib.pyplot as plt\n",
    "import matplotlib as mpl\n",
    "import numpy as np\n",
    "import scipy.stats as spstats\n",
    "\n",
    "%matplotlib inline\n",
    "mpl.style.reload_library()\n",
    "mpl.style.use('classic')\n",
    "mpl.rcParams['figure.facecolor'] = (1, 1, 1, 0)\n",
    "mpl.rcParams['figure.figsize'] = [6.0, 4.0]\n",
    "mpl.rcParams['figure.dpi'] = 100"
   ]
  },
  {
   "cell_type": "markdown",
   "metadata": {},
   "source": [
    "# Raw Measures"
   ]
  },
  {
   "cell_type": "markdown",
   "metadata": {},
   "source": [
    "## Values"
   ]
  },
  {
   "cell_type": "code",
   "execution_count": 2,
   "metadata": {},
   "outputs": [
    {
     "data": {
      "text/html": [
       "<div>\n",
       "<style scoped>\n",
       "    .dataframe tbody tr th:only-of-type {\n",
       "        vertical-align: middle;\n",
       "    }\n",
       "\n",
       "    .dataframe tbody tr th {\n",
       "        vertical-align: top;\n",
       "    }\n",
       "\n",
       "    .dataframe thead th {\n",
       "        text-align: right;\n",
       "    }\n",
       "</style>\n",
       "<table border=\"1\" class=\"dataframe\">\n",
       "  <thead>\n",
       "    <tr style=\"text-align: right;\">\n",
       "      <th></th>\n",
       "      <th>#</th>\n",
       "      <th>Name</th>\n",
       "      <th>Type 1</th>\n",
       "      <th>Type 2</th>\n",
       "      <th>Total</th>\n",
       "      <th>HP</th>\n",
       "      <th>Attack</th>\n",
       "      <th>Defense</th>\n",
       "      <th>Sp. Atk</th>\n",
       "      <th>Sp. Def</th>\n",
       "      <th>Speed</th>\n",
       "      <th>Generation</th>\n",
       "      <th>Legendary</th>\n",
       "    </tr>\n",
       "  </thead>\n",
       "  <tbody>\n",
       "    <tr>\n",
       "      <th>0</th>\n",
       "      <td>1</td>\n",
       "      <td>Bulbasaur</td>\n",
       "      <td>Grass</td>\n",
       "      <td>Poison</td>\n",
       "      <td>318</td>\n",
       "      <td>45</td>\n",
       "      <td>49</td>\n",
       "      <td>49</td>\n",
       "      <td>65</td>\n",
       "      <td>65</td>\n",
       "      <td>45</td>\n",
       "      <td>Gen 1</td>\n",
       "      <td>False</td>\n",
       "    </tr>\n",
       "    <tr>\n",
       "      <th>1</th>\n",
       "      <td>2</td>\n",
       "      <td>Ivysaur</td>\n",
       "      <td>Grass</td>\n",
       "      <td>Poison</td>\n",
       "      <td>405</td>\n",
       "      <td>60</td>\n",
       "      <td>62</td>\n",
       "      <td>63</td>\n",
       "      <td>80</td>\n",
       "      <td>80</td>\n",
       "      <td>60</td>\n",
       "      <td>Gen 1</td>\n",
       "      <td>False</td>\n",
       "    </tr>\n",
       "    <tr>\n",
       "      <th>2</th>\n",
       "      <td>3</td>\n",
       "      <td>Venusaur</td>\n",
       "      <td>Grass</td>\n",
       "      <td>Poison</td>\n",
       "      <td>525</td>\n",
       "      <td>80</td>\n",
       "      <td>82</td>\n",
       "      <td>83</td>\n",
       "      <td>100</td>\n",
       "      <td>100</td>\n",
       "      <td>80</td>\n",
       "      <td>Gen 1</td>\n",
       "      <td>False</td>\n",
       "    </tr>\n",
       "    <tr>\n",
       "      <th>3</th>\n",
       "      <td>3</td>\n",
       "      <td>VenusaurMega Venusaur</td>\n",
       "      <td>Grass</td>\n",
       "      <td>Poison</td>\n",
       "      <td>625</td>\n",
       "      <td>80</td>\n",
       "      <td>100</td>\n",
       "      <td>123</td>\n",
       "      <td>122</td>\n",
       "      <td>120</td>\n",
       "      <td>80</td>\n",
       "      <td>Gen 1</td>\n",
       "      <td>False</td>\n",
       "    </tr>\n",
       "    <tr>\n",
       "      <th>4</th>\n",
       "      <td>4</td>\n",
       "      <td>Charmander</td>\n",
       "      <td>Fire</td>\n",
       "      <td>NaN</td>\n",
       "      <td>309</td>\n",
       "      <td>39</td>\n",
       "      <td>52</td>\n",
       "      <td>43</td>\n",
       "      <td>60</td>\n",
       "      <td>50</td>\n",
       "      <td>65</td>\n",
       "      <td>Gen 1</td>\n",
       "      <td>False</td>\n",
       "    </tr>\n",
       "  </tbody>\n",
       "</table>\n",
       "</div>"
      ],
      "text/plain": [
       "   #                   Name Type 1  Type 2  Total  HP  Attack  Defense  \\\n",
       "0  1              Bulbasaur  Grass  Poison    318  45      49       49   \n",
       "1  2                Ivysaur  Grass  Poison    405  60      62       63   \n",
       "2  3               Venusaur  Grass  Poison    525  80      82       83   \n",
       "3  3  VenusaurMega Venusaur  Grass  Poison    625  80     100      123   \n",
       "4  4             Charmander   Fire     NaN    309  39      52       43   \n",
       "\n",
       "   Sp. Atk  Sp. Def  Speed Generation  Legendary  \n",
       "0       65       65     45      Gen 1      False  \n",
       "1       80       80     60      Gen 1      False  \n",
       "2      100      100     80      Gen 1      False  \n",
       "3      122      120     80      Gen 1      False  \n",
       "4       60       50     65      Gen 1      False  "
      ]
     },
     "execution_count": 2,
     "metadata": {},
     "output_type": "execute_result"
    }
   ],
   "source": [
    "poke_df = pd.read_csv('datasets/Pokemon.csv', encoding='utf-8')\n",
    "poke_df.head()"
   ]
  },
  {
   "cell_type": "code",
   "execution_count": 3,
   "metadata": {},
   "outputs": [
    {
     "data": {
      "text/html": [
       "<div>\n",
       "<style scoped>\n",
       "    .dataframe tbody tr th:only-of-type {\n",
       "        vertical-align: middle;\n",
       "    }\n",
       "\n",
       "    .dataframe tbody tr th {\n",
       "        vertical-align: top;\n",
       "    }\n",
       "\n",
       "    .dataframe thead th {\n",
       "        text-align: right;\n",
       "    }\n",
       "</style>\n",
       "<table border=\"1\" class=\"dataframe\">\n",
       "  <thead>\n",
       "    <tr style=\"text-align: right;\">\n",
       "      <th></th>\n",
       "      <th>HP</th>\n",
       "      <th>Attack</th>\n",
       "      <th>Defense</th>\n",
       "    </tr>\n",
       "  </thead>\n",
       "  <tbody>\n",
       "    <tr>\n",
       "      <th>0</th>\n",
       "      <td>45</td>\n",
       "      <td>49</td>\n",
       "      <td>49</td>\n",
       "    </tr>\n",
       "    <tr>\n",
       "      <th>1</th>\n",
       "      <td>60</td>\n",
       "      <td>62</td>\n",
       "      <td>63</td>\n",
       "    </tr>\n",
       "    <tr>\n",
       "      <th>2</th>\n",
       "      <td>80</td>\n",
       "      <td>82</td>\n",
       "      <td>83</td>\n",
       "    </tr>\n",
       "    <tr>\n",
       "      <th>3</th>\n",
       "      <td>80</td>\n",
       "      <td>100</td>\n",
       "      <td>123</td>\n",
       "    </tr>\n",
       "    <tr>\n",
       "      <th>4</th>\n",
       "      <td>39</td>\n",
       "      <td>52</td>\n",
       "      <td>43</td>\n",
       "    </tr>\n",
       "  </tbody>\n",
       "</table>\n",
       "</div>"
      ],
      "text/plain": [
       "   HP  Attack  Defense\n",
       "0  45      49       49\n",
       "1  60      62       63\n",
       "2  80      82       83\n",
       "3  80     100      123\n",
       "4  39      52       43"
      ]
     },
     "execution_count": 3,
     "metadata": {},
     "output_type": "execute_result"
    }
   ],
   "source": [
    "poke_df[['HP', 'Attack', 'Defense']].head()"
   ]
  },
  {
   "cell_type": "code",
   "execution_count": 4,
   "metadata": {},
   "outputs": [
    {
     "data": {
      "text/plain": [
       "pandas.core.frame.DataFrame"
      ]
     },
     "execution_count": 4,
     "metadata": {},
     "output_type": "execute_result"
    }
   ],
   "source": [
    "type(poke_df)"
   ]
  },
  {
   "cell_type": "code",
   "execution_count": 5,
   "metadata": {},
   "outputs": [
    {
     "data": {
      "text/plain": [
       "(800, 13)"
      ]
     },
     "execution_count": 5,
     "metadata": {},
     "output_type": "execute_result"
    }
   ],
   "source": [
    "poke_df.shape"
   ]
  },
  {
   "cell_type": "code",
   "execution_count": 6,
   "metadata": {},
   "outputs": [
    {
     "name": "stdout",
     "output_type": "stream",
     "text": [
      "<class 'pandas.core.frame.DataFrame'>\n",
      "RangeIndex: 800 entries, 0 to 799\n",
      "Data columns (total 13 columns):\n",
      " #   Column      Non-Null Count  Dtype \n",
      "---  ------      --------------  ----- \n",
      " 0   #           800 non-null    int64 \n",
      " 1   Name        800 non-null    object\n",
      " 2   Type 1      800 non-null    object\n",
      " 3   Type 2      414 non-null    object\n",
      " 4   Total       800 non-null    int64 \n",
      " 5   HP          800 non-null    int64 \n",
      " 6   Attack      800 non-null    int64 \n",
      " 7   Defense     800 non-null    int64 \n",
      " 8   Sp. Atk     800 non-null    int64 \n",
      " 9   Sp. Def     800 non-null    int64 \n",
      " 10  Speed       800 non-null    int64 \n",
      " 11  Generation  800 non-null    object\n",
      " 12  Legendary   800 non-null    bool  \n",
      "dtypes: bool(1), int64(8), object(4)\n",
      "memory usage: 75.9+ KB\n"
     ]
    }
   ],
   "source": [
    "poke_df.info()"
   ]
  },
  {
   "cell_type": "code",
   "execution_count": 4,
   "metadata": {},
   "outputs": [
    {
     "data": {
      "text/html": [
       "<div>\n",
       "<style>\n",
       "    .dataframe thead tr:only-child th {\n",
       "        text-align: right;\n",
       "    }\n",
       "\n",
       "    .dataframe thead th {\n",
       "        text-align: left;\n",
       "    }\n",
       "\n",
       "    .dataframe tbody tr th {\n",
       "        vertical-align: top;\n",
       "    }\n",
       "</style>\n",
       "<table border=\"1\" class=\"dataframe\">\n",
       "  <thead>\n",
       "    <tr style=\"text-align: right;\">\n",
       "      <th></th>\n",
       "      <th>HP</th>\n",
       "      <th>Attack</th>\n",
       "      <th>Defense</th>\n",
       "    </tr>\n",
       "  </thead>\n",
       "  <tbody>\n",
       "    <tr>\n",
       "      <th>count</th>\n",
       "      <td>800.000000</td>\n",
       "      <td>800.000000</td>\n",
       "      <td>800.000000</td>\n",
       "    </tr>\n",
       "    <tr>\n",
       "      <th>mean</th>\n",
       "      <td>69.258750</td>\n",
       "      <td>79.001250</td>\n",
       "      <td>73.842500</td>\n",
       "    </tr>\n",
       "    <tr>\n",
       "      <th>std</th>\n",
       "      <td>25.534669</td>\n",
       "      <td>32.457366</td>\n",
       "      <td>31.183501</td>\n",
       "    </tr>\n",
       "    <tr>\n",
       "      <th>min</th>\n",
       "      <td>1.000000</td>\n",
       "      <td>5.000000</td>\n",
       "      <td>5.000000</td>\n",
       "    </tr>\n",
       "    <tr>\n",
       "      <th>25%</th>\n",
       "      <td>50.000000</td>\n",
       "      <td>55.000000</td>\n",
       "      <td>50.000000</td>\n",
       "    </tr>\n",
       "    <tr>\n",
       "      <th>50%</th>\n",
       "      <td>65.000000</td>\n",
       "      <td>75.000000</td>\n",
       "      <td>70.000000</td>\n",
       "    </tr>\n",
       "    <tr>\n",
       "      <th>75%</th>\n",
       "      <td>80.000000</td>\n",
       "      <td>100.000000</td>\n",
       "      <td>90.000000</td>\n",
       "    </tr>\n",
       "    <tr>\n",
       "      <th>max</th>\n",
       "      <td>255.000000</td>\n",
       "      <td>190.000000</td>\n",
       "      <td>230.000000</td>\n",
       "    </tr>\n",
       "  </tbody>\n",
       "</table>\n",
       "</div>"
      ],
      "text/plain": [
       "               HP      Attack     Defense\n",
       "count  800.000000  800.000000  800.000000\n",
       "mean    69.258750   79.001250   73.842500\n",
       "std     25.534669   32.457366   31.183501\n",
       "min      1.000000    5.000000    5.000000\n",
       "25%     50.000000   55.000000   50.000000\n",
       "50%     65.000000   75.000000   70.000000\n",
       "75%     80.000000  100.000000   90.000000\n",
       "max    255.000000  190.000000  230.000000"
      ]
     },
     "execution_count": 4,
     "metadata": {},
     "output_type": "execute_result"
    }
   ],
   "source": [
    "poke_df[['HP', 'Attack', 'Defense']].describe()  #statistical summary of the numeric col only"
   ]
  },
  {
   "cell_type": "markdown",
   "metadata": {},
   "source": [
    "## Counts"
   ]
  },
  {
   "cell_type": "code",
   "execution_count": 7,
   "metadata": {},
   "outputs": [
    {
     "data": {
      "text/html": [
       "<div>\n",
       "<style scoped>\n",
       "    .dataframe tbody tr th:only-of-type {\n",
       "        vertical-align: middle;\n",
       "    }\n",
       "\n",
       "    .dataframe tbody tr th {\n",
       "        vertical-align: top;\n",
       "    }\n",
       "\n",
       "    .dataframe thead th {\n",
       "        text-align: right;\n",
       "    }\n",
       "</style>\n",
       "<table border=\"1\" class=\"dataframe\">\n",
       "  <thead>\n",
       "    <tr style=\"text-align: right;\">\n",
       "      <th></th>\n",
       "      <th>user_id</th>\n",
       "      <th>song_id</th>\n",
       "      <th>title</th>\n",
       "      <th>listen_count</th>\n",
       "    </tr>\n",
       "  </thead>\n",
       "  <tbody>\n",
       "    <tr>\n",
       "      <th>0</th>\n",
       "      <td>b6b799f34a204bd928ea014c243ddad6d0be4f8f</td>\n",
       "      <td>SOBONKR12A58A7A7E0</td>\n",
       "      <td>You're The One</td>\n",
       "      <td>2</td>\n",
       "    </tr>\n",
       "    <tr>\n",
       "      <th>1</th>\n",
       "      <td>b41ead730ac14f6b6717b9cf8859d5579f3f8d4d</td>\n",
       "      <td>SOBONKR12A58A7A7E0</td>\n",
       "      <td>You're The One</td>\n",
       "      <td>0</td>\n",
       "    </tr>\n",
       "    <tr>\n",
       "      <th>2</th>\n",
       "      <td>4c84359a164b161496d05282707cecbd50adbfc4</td>\n",
       "      <td>SOBONKR12A58A7A7E0</td>\n",
       "      <td>You're The One</td>\n",
       "      <td>0</td>\n",
       "    </tr>\n",
       "    <tr>\n",
       "      <th>3</th>\n",
       "      <td>779b5908593756abb6ff7586177c966022668b06</td>\n",
       "      <td>SOBONKR12A58A7A7E0</td>\n",
       "      <td>You're The One</td>\n",
       "      <td>0</td>\n",
       "    </tr>\n",
       "    <tr>\n",
       "      <th>4</th>\n",
       "      <td>dd88ea94f605a63d9fc37a214127e3f00e85e42d</td>\n",
       "      <td>SOBONKR12A58A7A7E0</td>\n",
       "      <td>You're The One</td>\n",
       "      <td>0</td>\n",
       "    </tr>\n",
       "    <tr>\n",
       "      <th>5</th>\n",
       "      <td>68f0359a2f1cedb0d15c98d88017281db79f9bc6</td>\n",
       "      <td>SOBONKR12A58A7A7E0</td>\n",
       "      <td>You're The One</td>\n",
       "      <td>0</td>\n",
       "    </tr>\n",
       "    <tr>\n",
       "      <th>6</th>\n",
       "      <td>116a4c95d63623a967edf2f3456c90ebbf964e6f</td>\n",
       "      <td>SOBONKR12A58A7A7E0</td>\n",
       "      <td>You're The One</td>\n",
       "      <td>17</td>\n",
       "    </tr>\n",
       "    <tr>\n",
       "      <th>7</th>\n",
       "      <td>45544491ccfcdc0b0803c34f201a6287ed4e30f8</td>\n",
       "      <td>SOBONKR12A58A7A7E0</td>\n",
       "      <td>You're The One</td>\n",
       "      <td>0</td>\n",
       "    </tr>\n",
       "    <tr>\n",
       "      <th>8</th>\n",
       "      <td>e701a24d9b6c59f5ac37ab28462ca82470e27cfb</td>\n",
       "      <td>SOBONKR12A58A7A7E0</td>\n",
       "      <td>You're The One</td>\n",
       "      <td>68</td>\n",
       "    </tr>\n",
       "    <tr>\n",
       "      <th>9</th>\n",
       "      <td>edc8b7b1fd592a3b69c3d823a742e1a064abec95</td>\n",
       "      <td>SOBONKR12A58A7A7E0</td>\n",
       "      <td>You're The One</td>\n",
       "      <td>0</td>\n",
       "    </tr>\n",
       "  </tbody>\n",
       "</table>\n",
       "</div>"
      ],
      "text/plain": [
       "                                    user_id             song_id  \\\n",
       "0  b6b799f34a204bd928ea014c243ddad6d0be4f8f  SOBONKR12A58A7A7E0   \n",
       "1  b41ead730ac14f6b6717b9cf8859d5579f3f8d4d  SOBONKR12A58A7A7E0   \n",
       "2  4c84359a164b161496d05282707cecbd50adbfc4  SOBONKR12A58A7A7E0   \n",
       "3  779b5908593756abb6ff7586177c966022668b06  SOBONKR12A58A7A7E0   \n",
       "4  dd88ea94f605a63d9fc37a214127e3f00e85e42d  SOBONKR12A58A7A7E0   \n",
       "5  68f0359a2f1cedb0d15c98d88017281db79f9bc6  SOBONKR12A58A7A7E0   \n",
       "6  116a4c95d63623a967edf2f3456c90ebbf964e6f  SOBONKR12A58A7A7E0   \n",
       "7  45544491ccfcdc0b0803c34f201a6287ed4e30f8  SOBONKR12A58A7A7E0   \n",
       "8  e701a24d9b6c59f5ac37ab28462ca82470e27cfb  SOBONKR12A58A7A7E0   \n",
       "9  edc8b7b1fd592a3b69c3d823a742e1a064abec95  SOBONKR12A58A7A7E0   \n",
       "\n",
       "            title  listen_count  \n",
       "0  You're The One             2  \n",
       "1  You're The One             0  \n",
       "2  You're The One             0  \n",
       "3  You're The One             0  \n",
       "4  You're The One             0  \n",
       "5  You're The One             0  \n",
       "6  You're The One            17  \n",
       "7  You're The One             0  \n",
       "8  You're The One            68  \n",
       "9  You're The One             0  "
      ]
     },
     "execution_count": 7,
     "metadata": {},
     "output_type": "execute_result"
    }
   ],
   "source": [
    "popsong_df = pd.read_csv('datasets/song_views.csv', encoding='utf-8')\n",
    "popsong_df.head(10)"
   ]
  },
  {
   "cell_type": "markdown",
   "metadata": {},
   "source": [
    "# Binarization"
   ]
  },
  {
   "cell_type": "code",
   "execution_count": 8,
   "metadata": {},
   "outputs": [],
   "source": [
    "watched = np.array(popsong_df['listen_count']) "
   ]
  },
  {
   "cell_type": "code",
   "execution_count": null,
   "metadata": {},
   "outputs": [],
   "source": []
  },
  {
   "cell_type": "code",
   "execution_count": 9,
   "metadata": {},
   "outputs": [
    {
     "data": {
      "text/plain": [
       "array([1, 0, 0, 0, 0, 0, 1, 0, 1, 0, 1, 0, 0, 0, 0, 0, 1, 0, 0, 1, 0, 0,\n",
       "       0, 0, 0, 0, 0, 0, 0, 0, 0, 0, 0, 0, 0, 0, 0, 1, 0, 0, 0, 0, 0, 0,\n",
       "       0, 0, 1, 0, 0, 0, 0, 0, 0, 0, 0, 0, 0, 0, 0, 0, 0, 0, 0, 0, 0, 0,\n",
       "       0, 1, 1, 0, 1, 0, 0, 1, 0, 0, 0, 0, 0, 0, 0, 0, 0, 1, 0, 0, 0, 0,\n",
       "       0, 0, 0, 0, 0, 0, 0, 0, 0, 1, 0, 0, 0, 0, 0, 0, 0, 0, 0, 0, 1, 0,\n",
       "       0, 0, 0, 0, 0, 0, 0, 0, 0, 0, 0, 0, 0, 1, 0, 0, 0, 0, 0, 0, 0, 0,\n",
       "       0, 0, 0, 0, 0, 0, 0, 0, 0, 0, 0, 0, 0, 0, 0, 0, 0, 0, 0, 0, 0, 1,\n",
       "       0, 0, 0, 0, 0, 1, 0, 0, 0, 0, 0, 0, 0, 0, 0, 0, 0, 0, 0, 0, 0, 0,\n",
       "       0, 0, 0, 0, 0, 0, 0, 0, 0, 0, 0, 1, 0, 0, 0, 0, 0, 0, 0, 0, 0, 0,\n",
       "       0, 0, 0, 0, 0, 0, 0, 0, 0, 0, 0, 0, 0, 0, 0, 0, 0, 0, 1, 0, 0, 1,\n",
       "       0, 0, 1, 0, 0, 0, 0, 0, 0, 1, 0, 0, 0, 0, 0, 0, 0, 0, 1, 0, 0, 0,\n",
       "       0, 0, 0, 0, 1, 1, 0, 0, 0, 0, 0, 0, 0, 0, 0, 0, 0, 0, 0, 0, 0, 1,\n",
       "       0, 0, 0, 0, 0, 0, 0, 0, 0, 0, 0, 0, 0, 0, 0, 0, 0, 0, 0, 0, 1, 0,\n",
       "       0, 1, 0, 1, 0, 0, 0, 0, 0, 0, 0, 0, 0, 0, 0, 0, 0, 0, 0, 0, 0, 0,\n",
       "       0, 0, 0, 0, 0, 0, 0, 1, 0, 0, 0, 0, 0, 0, 0, 0, 0, 0, 0, 0, 0, 0,\n",
       "       0, 0, 0, 0, 0, 0, 0, 0, 0, 0, 0, 0, 0, 0, 0, 0, 0, 0, 0, 0, 0, 0,\n",
       "       0, 0, 0, 0, 1, 0, 0, 0, 0, 0, 0, 0, 0], dtype=int64)"
      ]
     },
     "execution_count": 9,
     "metadata": {},
     "output_type": "execute_result"
    }
   ],
   "source": [
    "watched[watched >= 1] = 1\n",
    "watched"
   ]
  },
  {
   "cell_type": "code",
   "execution_count": 10,
   "metadata": {},
   "outputs": [
    {
     "data": {
      "text/html": [
       "<div>\n",
       "<style scoped>\n",
       "    .dataframe tbody tr th:only-of-type {\n",
       "        vertical-align: middle;\n",
       "    }\n",
       "\n",
       "    .dataframe tbody tr th {\n",
       "        vertical-align: top;\n",
       "    }\n",
       "\n",
       "    .dataframe thead th {\n",
       "        text-align: right;\n",
       "    }\n",
       "</style>\n",
       "<table border=\"1\" class=\"dataframe\">\n",
       "  <thead>\n",
       "    <tr style=\"text-align: right;\">\n",
       "      <th></th>\n",
       "      <th>user_id</th>\n",
       "      <th>song_id</th>\n",
       "      <th>title</th>\n",
       "      <th>listen_count</th>\n",
       "      <th>watched</th>\n",
       "    </tr>\n",
       "  </thead>\n",
       "  <tbody>\n",
       "    <tr>\n",
       "      <th>0</th>\n",
       "      <td>b6b799f34a204bd928ea014c243ddad6d0be4f8f</td>\n",
       "      <td>SOBONKR12A58A7A7E0</td>\n",
       "      <td>You're The One</td>\n",
       "      <td>2</td>\n",
       "      <td>1</td>\n",
       "    </tr>\n",
       "    <tr>\n",
       "      <th>1</th>\n",
       "      <td>b41ead730ac14f6b6717b9cf8859d5579f3f8d4d</td>\n",
       "      <td>SOBONKR12A58A7A7E0</td>\n",
       "      <td>You're The One</td>\n",
       "      <td>0</td>\n",
       "      <td>0</td>\n",
       "    </tr>\n",
       "    <tr>\n",
       "      <th>2</th>\n",
       "      <td>4c84359a164b161496d05282707cecbd50adbfc4</td>\n",
       "      <td>SOBONKR12A58A7A7E0</td>\n",
       "      <td>You're The One</td>\n",
       "      <td>0</td>\n",
       "      <td>0</td>\n",
       "    </tr>\n",
       "    <tr>\n",
       "      <th>3</th>\n",
       "      <td>779b5908593756abb6ff7586177c966022668b06</td>\n",
       "      <td>SOBONKR12A58A7A7E0</td>\n",
       "      <td>You're The One</td>\n",
       "      <td>0</td>\n",
       "      <td>0</td>\n",
       "    </tr>\n",
       "    <tr>\n",
       "      <th>4</th>\n",
       "      <td>dd88ea94f605a63d9fc37a214127e3f00e85e42d</td>\n",
       "      <td>SOBONKR12A58A7A7E0</td>\n",
       "      <td>You're The One</td>\n",
       "      <td>0</td>\n",
       "      <td>0</td>\n",
       "    </tr>\n",
       "    <tr>\n",
       "      <th>5</th>\n",
       "      <td>68f0359a2f1cedb0d15c98d88017281db79f9bc6</td>\n",
       "      <td>SOBONKR12A58A7A7E0</td>\n",
       "      <td>You're The One</td>\n",
       "      <td>0</td>\n",
       "      <td>0</td>\n",
       "    </tr>\n",
       "    <tr>\n",
       "      <th>6</th>\n",
       "      <td>116a4c95d63623a967edf2f3456c90ebbf964e6f</td>\n",
       "      <td>SOBONKR12A58A7A7E0</td>\n",
       "      <td>You're The One</td>\n",
       "      <td>17</td>\n",
       "      <td>1</td>\n",
       "    </tr>\n",
       "    <tr>\n",
       "      <th>7</th>\n",
       "      <td>45544491ccfcdc0b0803c34f201a6287ed4e30f8</td>\n",
       "      <td>SOBONKR12A58A7A7E0</td>\n",
       "      <td>You're The One</td>\n",
       "      <td>0</td>\n",
       "      <td>0</td>\n",
       "    </tr>\n",
       "    <tr>\n",
       "      <th>8</th>\n",
       "      <td>e701a24d9b6c59f5ac37ab28462ca82470e27cfb</td>\n",
       "      <td>SOBONKR12A58A7A7E0</td>\n",
       "      <td>You're The One</td>\n",
       "      <td>68</td>\n",
       "      <td>1</td>\n",
       "    </tr>\n",
       "    <tr>\n",
       "      <th>9</th>\n",
       "      <td>edc8b7b1fd592a3b69c3d823a742e1a064abec95</td>\n",
       "      <td>SOBONKR12A58A7A7E0</td>\n",
       "      <td>You're The One</td>\n",
       "      <td>0</td>\n",
       "      <td>0</td>\n",
       "    </tr>\n",
       "  </tbody>\n",
       "</table>\n",
       "</div>"
      ],
      "text/plain": [
       "                                    user_id             song_id  \\\n",
       "0  b6b799f34a204bd928ea014c243ddad6d0be4f8f  SOBONKR12A58A7A7E0   \n",
       "1  b41ead730ac14f6b6717b9cf8859d5579f3f8d4d  SOBONKR12A58A7A7E0   \n",
       "2  4c84359a164b161496d05282707cecbd50adbfc4  SOBONKR12A58A7A7E0   \n",
       "3  779b5908593756abb6ff7586177c966022668b06  SOBONKR12A58A7A7E0   \n",
       "4  dd88ea94f605a63d9fc37a214127e3f00e85e42d  SOBONKR12A58A7A7E0   \n",
       "5  68f0359a2f1cedb0d15c98d88017281db79f9bc6  SOBONKR12A58A7A7E0   \n",
       "6  116a4c95d63623a967edf2f3456c90ebbf964e6f  SOBONKR12A58A7A7E0   \n",
       "7  45544491ccfcdc0b0803c34f201a6287ed4e30f8  SOBONKR12A58A7A7E0   \n",
       "8  e701a24d9b6c59f5ac37ab28462ca82470e27cfb  SOBONKR12A58A7A7E0   \n",
       "9  edc8b7b1fd592a3b69c3d823a742e1a064abec95  SOBONKR12A58A7A7E0   \n",
       "\n",
       "            title  listen_count  watched  \n",
       "0  You're The One             2        1  \n",
       "1  You're The One             0        0  \n",
       "2  You're The One             0        0  \n",
       "3  You're The One             0        0  \n",
       "4  You're The One             0        0  \n",
       "5  You're The One             0        0  \n",
       "6  You're The One            17        1  \n",
       "7  You're The One             0        0  \n",
       "8  You're The One            68        1  \n",
       "9  You're The One             0        0  "
      ]
     },
     "execution_count": 10,
     "metadata": {},
     "output_type": "execute_result"
    }
   ],
   "source": [
    "popsong_df['watched'] = watched\n",
    "popsong_df.head(10)"
   ]
  },
  {
   "cell_type": "code",
   "execution_count": 11,
   "metadata": {},
   "outputs": [
    {
     "data": {
      "text/html": [
       "<div>\n",
       "<style scoped>\n",
       "    .dataframe tbody tr th:only-of-type {\n",
       "        vertical-align: middle;\n",
       "    }\n",
       "\n",
       "    .dataframe tbody tr th {\n",
       "        vertical-align: top;\n",
       "    }\n",
       "\n",
       "    .dataframe thead th {\n",
       "        text-align: right;\n",
       "    }\n",
       "</style>\n",
       "<table border=\"1\" class=\"dataframe\">\n",
       "  <thead>\n",
       "    <tr style=\"text-align: right;\">\n",
       "      <th></th>\n",
       "      <th>user_id</th>\n",
       "      <th>song_id</th>\n",
       "      <th>title</th>\n",
       "      <th>listen_count</th>\n",
       "      <th>watched</th>\n",
       "      <th>pd_watched</th>\n",
       "    </tr>\n",
       "  </thead>\n",
       "  <tbody>\n",
       "    <tr>\n",
       "      <th>0</th>\n",
       "      <td>b6b799f34a204bd928ea014c243ddad6d0be4f8f</td>\n",
       "      <td>SOBONKR12A58A7A7E0</td>\n",
       "      <td>You're The One</td>\n",
       "      <td>2</td>\n",
       "      <td>1</td>\n",
       "      <td>1</td>\n",
       "    </tr>\n",
       "    <tr>\n",
       "      <th>1</th>\n",
       "      <td>b41ead730ac14f6b6717b9cf8859d5579f3f8d4d</td>\n",
       "      <td>SOBONKR12A58A7A7E0</td>\n",
       "      <td>You're The One</td>\n",
       "      <td>0</td>\n",
       "      <td>0</td>\n",
       "      <td>0</td>\n",
       "    </tr>\n",
       "    <tr>\n",
       "      <th>2</th>\n",
       "      <td>4c84359a164b161496d05282707cecbd50adbfc4</td>\n",
       "      <td>SOBONKR12A58A7A7E0</td>\n",
       "      <td>You're The One</td>\n",
       "      <td>0</td>\n",
       "      <td>0</td>\n",
       "      <td>0</td>\n",
       "    </tr>\n",
       "    <tr>\n",
       "      <th>3</th>\n",
       "      <td>779b5908593756abb6ff7586177c966022668b06</td>\n",
       "      <td>SOBONKR12A58A7A7E0</td>\n",
       "      <td>You're The One</td>\n",
       "      <td>0</td>\n",
       "      <td>0</td>\n",
       "      <td>0</td>\n",
       "    </tr>\n",
       "    <tr>\n",
       "      <th>4</th>\n",
       "      <td>dd88ea94f605a63d9fc37a214127e3f00e85e42d</td>\n",
       "      <td>SOBONKR12A58A7A7E0</td>\n",
       "      <td>You're The One</td>\n",
       "      <td>0</td>\n",
       "      <td>0</td>\n",
       "      <td>0</td>\n",
       "    </tr>\n",
       "    <tr>\n",
       "      <th>5</th>\n",
       "      <td>68f0359a2f1cedb0d15c98d88017281db79f9bc6</td>\n",
       "      <td>SOBONKR12A58A7A7E0</td>\n",
       "      <td>You're The One</td>\n",
       "      <td>0</td>\n",
       "      <td>0</td>\n",
       "      <td>0</td>\n",
       "    </tr>\n",
       "    <tr>\n",
       "      <th>6</th>\n",
       "      <td>116a4c95d63623a967edf2f3456c90ebbf964e6f</td>\n",
       "      <td>SOBONKR12A58A7A7E0</td>\n",
       "      <td>You're The One</td>\n",
       "      <td>17</td>\n",
       "      <td>1</td>\n",
       "      <td>1</td>\n",
       "    </tr>\n",
       "    <tr>\n",
       "      <th>7</th>\n",
       "      <td>45544491ccfcdc0b0803c34f201a6287ed4e30f8</td>\n",
       "      <td>SOBONKR12A58A7A7E0</td>\n",
       "      <td>You're The One</td>\n",
       "      <td>0</td>\n",
       "      <td>0</td>\n",
       "      <td>0</td>\n",
       "    </tr>\n",
       "    <tr>\n",
       "      <th>8</th>\n",
       "      <td>e701a24d9b6c59f5ac37ab28462ca82470e27cfb</td>\n",
       "      <td>SOBONKR12A58A7A7E0</td>\n",
       "      <td>You're The One</td>\n",
       "      <td>68</td>\n",
       "      <td>1</td>\n",
       "      <td>1</td>\n",
       "    </tr>\n",
       "    <tr>\n",
       "      <th>9</th>\n",
       "      <td>edc8b7b1fd592a3b69c3d823a742e1a064abec95</td>\n",
       "      <td>SOBONKR12A58A7A7E0</td>\n",
       "      <td>You're The One</td>\n",
       "      <td>0</td>\n",
       "      <td>0</td>\n",
       "      <td>0</td>\n",
       "    </tr>\n",
       "    <tr>\n",
       "      <th>10</th>\n",
       "      <td>fb41d1c374d093ab643ef3bcd70eeb258d479076</td>\n",
       "      <td>SOBONKR12A58A7A7E0</td>\n",
       "      <td>You're The One</td>\n",
       "      <td>1</td>\n",
       "      <td>1</td>\n",
       "      <td>1</td>\n",
       "    </tr>\n",
       "  </tbody>\n",
       "</table>\n",
       "</div>"
      ],
      "text/plain": [
       "                                     user_id             song_id  \\\n",
       "0   b6b799f34a204bd928ea014c243ddad6d0be4f8f  SOBONKR12A58A7A7E0   \n",
       "1   b41ead730ac14f6b6717b9cf8859d5579f3f8d4d  SOBONKR12A58A7A7E0   \n",
       "2   4c84359a164b161496d05282707cecbd50adbfc4  SOBONKR12A58A7A7E0   \n",
       "3   779b5908593756abb6ff7586177c966022668b06  SOBONKR12A58A7A7E0   \n",
       "4   dd88ea94f605a63d9fc37a214127e3f00e85e42d  SOBONKR12A58A7A7E0   \n",
       "5   68f0359a2f1cedb0d15c98d88017281db79f9bc6  SOBONKR12A58A7A7E0   \n",
       "6   116a4c95d63623a967edf2f3456c90ebbf964e6f  SOBONKR12A58A7A7E0   \n",
       "7   45544491ccfcdc0b0803c34f201a6287ed4e30f8  SOBONKR12A58A7A7E0   \n",
       "8   e701a24d9b6c59f5ac37ab28462ca82470e27cfb  SOBONKR12A58A7A7E0   \n",
       "9   edc8b7b1fd592a3b69c3d823a742e1a064abec95  SOBONKR12A58A7A7E0   \n",
       "10  fb41d1c374d093ab643ef3bcd70eeb258d479076  SOBONKR12A58A7A7E0   \n",
       "\n",
       "             title  listen_count  watched  pd_watched  \n",
       "0   You're The One             2        1           1  \n",
       "1   You're The One             0        0           0  \n",
       "2   You're The One             0        0           0  \n",
       "3   You're The One             0        0           0  \n",
       "4   You're The One             0        0           0  \n",
       "5   You're The One             0        0           0  \n",
       "6   You're The One            17        1           1  \n",
       "7   You're The One             0        0           0  \n",
       "8   You're The One            68        1           1  \n",
       "9   You're The One             0        0           0  \n",
       "10  You're The One             1        1           1  "
      ]
     },
     "execution_count": 11,
     "metadata": {},
     "output_type": "execute_result"
    }
   ],
   "source": [
    "from sklearn.preprocessing import Binarizer\n",
    "\n",
    "bn = Binarizer(threshold=0.9)\n",
    "pd_watched = bn.transform([popsong_df['listen_count']])[0]\n",
    "popsong_df['pd_watched'] = pd_watched\n",
    "popsong_df.head(11)"
   ]
  },
  {
   "cell_type": "markdown",
   "metadata": {},
   "source": [
    "# Rounding"
   ]
  },
  {
   "cell_type": "code",
   "execution_count": 12,
   "metadata": {},
   "outputs": [
    {
     "data": {
      "text/html": [
       "<div>\n",
       "<style scoped>\n",
       "    .dataframe tbody tr th:only-of-type {\n",
       "        vertical-align: middle;\n",
       "    }\n",
       "\n",
       "    .dataframe tbody tr th {\n",
       "        vertical-align: top;\n",
       "    }\n",
       "\n",
       "    .dataframe thead th {\n",
       "        text-align: right;\n",
       "    }\n",
       "</style>\n",
       "<table border=\"1\" class=\"dataframe\">\n",
       "  <thead>\n",
       "    <tr style=\"text-align: right;\">\n",
       "      <th></th>\n",
       "      <th>item_id</th>\n",
       "      <th>pop_percent</th>\n",
       "    </tr>\n",
       "  </thead>\n",
       "  <tbody>\n",
       "    <tr>\n",
       "      <th>0</th>\n",
       "      <td>it_01345</td>\n",
       "      <td>0.98324</td>\n",
       "    </tr>\n",
       "    <tr>\n",
       "      <th>1</th>\n",
       "      <td>it_03431</td>\n",
       "      <td>0.56123</td>\n",
       "    </tr>\n",
       "    <tr>\n",
       "      <th>2</th>\n",
       "      <td>it_04572</td>\n",
       "      <td>0.12098</td>\n",
       "    </tr>\n",
       "    <tr>\n",
       "      <th>3</th>\n",
       "      <td>it_98021</td>\n",
       "      <td>0.35476</td>\n",
       "    </tr>\n",
       "    <tr>\n",
       "      <th>4</th>\n",
       "      <td>it_01298</td>\n",
       "      <td>0.92101</td>\n",
       "    </tr>\n",
       "    <tr>\n",
       "      <th>5</th>\n",
       "      <td>it_90120</td>\n",
       "      <td>0.81212</td>\n",
       "    </tr>\n",
       "    <tr>\n",
       "      <th>6</th>\n",
       "      <td>it_10123</td>\n",
       "      <td>0.56502</td>\n",
       "    </tr>\n",
       "  </tbody>\n",
       "</table>\n",
       "</div>"
      ],
      "text/plain": [
       "    item_id  pop_percent\n",
       "0  it_01345      0.98324\n",
       "1  it_03431      0.56123\n",
       "2  it_04572      0.12098\n",
       "3  it_98021      0.35476\n",
       "4  it_01298      0.92101\n",
       "5  it_90120      0.81212\n",
       "6  it_10123      0.56502"
      ]
     },
     "execution_count": 12,
     "metadata": {},
     "output_type": "execute_result"
    }
   ],
   "source": [
    "items_popularity = pd.read_csv('datasets/item_popularity.csv', encoding='utf-8')\n",
    "items_popularity"
   ]
  },
  {
   "cell_type": "code",
   "execution_count": 18,
   "metadata": {},
   "outputs": [
    {
     "data": {
      "text/plain": [
       "3"
      ]
     },
     "execution_count": 18,
     "metadata": {},
     "output_type": "execute_result"
    }
   ],
   "source": [
    "np.round(3.142856).astype('int32')"
   ]
  },
  {
   "cell_type": "code",
   "execution_count": 19,
   "metadata": {},
   "outputs": [
    {
     "data": {
      "text/html": [
       "<div>\n",
       "<style scoped>\n",
       "    .dataframe tbody tr th:only-of-type {\n",
       "        vertical-align: middle;\n",
       "    }\n",
       "\n",
       "    .dataframe tbody tr th {\n",
       "        vertical-align: top;\n",
       "    }\n",
       "\n",
       "    .dataframe thead th {\n",
       "        text-align: right;\n",
       "    }\n",
       "</style>\n",
       "<table border=\"1\" class=\"dataframe\">\n",
       "  <thead>\n",
       "    <tr style=\"text-align: right;\">\n",
       "      <th></th>\n",
       "      <th>item_id</th>\n",
       "      <th>pop_percent</th>\n",
       "      <th>popularity_scale_10</th>\n",
       "      <th>popularity_scale_100</th>\n",
       "    </tr>\n",
       "  </thead>\n",
       "  <tbody>\n",
       "    <tr>\n",
       "      <th>0</th>\n",
       "      <td>it_01345</td>\n",
       "      <td>0.98324</td>\n",
       "      <td>10</td>\n",
       "      <td>98</td>\n",
       "    </tr>\n",
       "    <tr>\n",
       "      <th>1</th>\n",
       "      <td>it_03431</td>\n",
       "      <td>0.56123</td>\n",
       "      <td>6</td>\n",
       "      <td>56</td>\n",
       "    </tr>\n",
       "    <tr>\n",
       "      <th>2</th>\n",
       "      <td>it_04572</td>\n",
       "      <td>0.12098</td>\n",
       "      <td>1</td>\n",
       "      <td>12</td>\n",
       "    </tr>\n",
       "    <tr>\n",
       "      <th>3</th>\n",
       "      <td>it_98021</td>\n",
       "      <td>0.35476</td>\n",
       "      <td>4</td>\n",
       "      <td>35</td>\n",
       "    </tr>\n",
       "    <tr>\n",
       "      <th>4</th>\n",
       "      <td>it_01298</td>\n",
       "      <td>0.92101</td>\n",
       "      <td>9</td>\n",
       "      <td>92</td>\n",
       "    </tr>\n",
       "    <tr>\n",
       "      <th>5</th>\n",
       "      <td>it_90120</td>\n",
       "      <td>0.81212</td>\n",
       "      <td>8</td>\n",
       "      <td>81</td>\n",
       "    </tr>\n",
       "    <tr>\n",
       "      <th>6</th>\n",
       "      <td>it_10123</td>\n",
       "      <td>0.56502</td>\n",
       "      <td>6</td>\n",
       "      <td>57</td>\n",
       "    </tr>\n",
       "  </tbody>\n",
       "</table>\n",
       "</div>"
      ],
      "text/plain": [
       "    item_id  pop_percent  popularity_scale_10  popularity_scale_100\n",
       "0  it_01345      0.98324                   10                    98\n",
       "1  it_03431      0.56123                    6                    56\n",
       "2  it_04572      0.12098                    1                    12\n",
       "3  it_98021      0.35476                    4                    35\n",
       "4  it_01298      0.92101                    9                    92\n",
       "5  it_90120      0.81212                    8                    81\n",
       "6  it_10123      0.56502                    6                    57"
      ]
     },
     "execution_count": 19,
     "metadata": {},
     "output_type": "execute_result"
    }
   ],
   "source": [
    "items_popularity['popularity_scale_10'] = np.array(np.round((items_popularity['pop_percent'] * 10)), dtype='int')\n",
    "items_popularity['popularity_scale_100'] = np.array(np.round((items_popularity['pop_percent'] * 100)), dtype='int')\n",
    "items_popularity"
   ]
  },
  {
   "cell_type": "markdown",
   "metadata": {},
   "source": [
    "# Interactions"
   ]
  },
  {
   "cell_type": "code",
   "execution_count": 20,
   "metadata": {},
   "outputs": [
    {
     "data": {
      "text/html": [
       "<div>\n",
       "<style scoped>\n",
       "    .dataframe tbody tr th:only-of-type {\n",
       "        vertical-align: middle;\n",
       "    }\n",
       "\n",
       "    .dataframe tbody tr th {\n",
       "        vertical-align: top;\n",
       "    }\n",
       "\n",
       "    .dataframe thead th {\n",
       "        text-align: right;\n",
       "    }\n",
       "</style>\n",
       "<table border=\"1\" class=\"dataframe\">\n",
       "  <thead>\n",
       "    <tr style=\"text-align: right;\">\n",
       "      <th></th>\n",
       "      <th>Attack</th>\n",
       "      <th>Defense</th>\n",
       "    </tr>\n",
       "  </thead>\n",
       "  <tbody>\n",
       "    <tr>\n",
       "      <th>0</th>\n",
       "      <td>49</td>\n",
       "      <td>49</td>\n",
       "    </tr>\n",
       "    <tr>\n",
       "      <th>1</th>\n",
       "      <td>62</td>\n",
       "      <td>63</td>\n",
       "    </tr>\n",
       "    <tr>\n",
       "      <th>2</th>\n",
       "      <td>82</td>\n",
       "      <td>83</td>\n",
       "    </tr>\n",
       "    <tr>\n",
       "      <th>3</th>\n",
       "      <td>100</td>\n",
       "      <td>123</td>\n",
       "    </tr>\n",
       "    <tr>\n",
       "      <th>4</th>\n",
       "      <td>52</td>\n",
       "      <td>43</td>\n",
       "    </tr>\n",
       "  </tbody>\n",
       "</table>\n",
       "</div>"
      ],
      "text/plain": [
       "   Attack  Defense\n",
       "0      49       49\n",
       "1      62       63\n",
       "2      82       83\n",
       "3     100      123\n",
       "4      52       43"
      ]
     },
     "execution_count": 20,
     "metadata": {},
     "output_type": "execute_result"
    }
   ],
   "source": [
    "atk_def = poke_df[['Attack', 'Defense']]\n",
    "atk_def.head()"
   ]
  },
  {
   "cell_type": "code",
   "execution_count": 23,
   "metadata": {},
   "outputs": [
    {
     "data": {
      "text/plain": [
       "numpy.ndarray"
      ]
     },
     "execution_count": 23,
     "metadata": {},
     "output_type": "execute_result"
    }
   ],
   "source": [
    "X1 = atk_def['Attack'].values\n",
    "type(X1)"
   ]
  },
  {
   "cell_type": "code",
   "execution_count": 24,
   "metadata": {},
   "outputs": [
    {
     "data": {
      "text/plain": [
       "array([ 2401,  3844,  6724, 10000,  2704,  4096,  7056, 16900, 10816,\n",
       "        2304,  3969,  6889, 10609,   900,   400,  2025,  1225,   625,\n",
       "        8100, 22500,  2025,  3600,  6400,  6400,  3136,  6561,  3600,\n",
       "        8100,  3600,  7225,  3025,  8100,  5625, 10000,  2209,  3844,\n",
       "        8464,  3249,  5184, 10404,  2025,  4900,  1681,  5776,  2025,\n",
       "        4900,  2025,  6400,  2500,  4225,  6400,  4900,  9025,  3025,\n",
       "        4225,  3025,  6400,  2025,  4900,  2704,  6724,  6400, 11025,\n",
       "        4900, 12100,  2500,  4225,  9025,   400,  1225,  2500,  2500,\n",
       "        6400, 10000, 16900,  5625,  8100, 11025,  1600,  4900,  6400,\n",
       "        9025, 14400,  7225, 10000,  4225,  5625,  5625,  1225,  3600,\n",
       "        4225,  7225, 12100,  2025,  4900,  6400, 11025,  4225,  9025,\n",
       "        1225,  2500,  4225,  4225,  2025,  2304,  5329, 11025, 16900,\n",
       "         900,  2500,  1600,  9025,  2500,  6400, 14400, 11025,  3025,\n",
       "        4225,  8100,  7225, 16900,    25,  3025,  9025, 15625,  1600,\n",
       "        4225,  4489,  8464,  2025,  5625,  2025, 12100,  2500,  6889,\n",
       "        9025, 15625, 24025, 10000,   100, 15625, 24025,  7225,  2304,\n",
       "        3025,  4225,  4225, 16900,  3600,  1600,  3600,  6400, 13225,\n",
       "       11025, 18225, 12100,  7225,  8100, 10000,  4096,  7056, 17956,\n",
       "       12100, 36100, 22500, 10000,  2401,  3844,  6724,  2704,  4096,\n",
       "        7056,  4225,  6400, 11025,  2116,  5776,   900,  2500,   400,\n",
       "        1225,  3600,  8100,  8100,  1444,  3364,  1600,   625,   900,\n",
       "         400,  1600,  2500,  5625,  1600,  3025,  5625,  9025,  6400,\n",
       "         400,  2500, 10000,  5625,  1225,  2025,  3025,  4900,   900,\n",
       "        5625,  4225,  2025,  7225,  4225,  4225,  7225,  5625,  3600,\n",
       "        5184,  1089,  6400,  4225,  8100,  4900,  5625,  7225, 15625,\n",
       "        6400, 14400,  9025, 16900, 22500,   100, 15625, 34225,  9025,\n",
       "        6400, 16900,  1600,  2500,  2500, 10000,  3025,  4225, 11025,\n",
       "        3025,  1600,  6400,  3600,  8100,  8100,  9025,  3600, 14400,\n",
       "        6400,  9025,   400,  1225,  9025,   900,  3969,  5625,  6400,\n",
       "         100,  7225, 13225,  5625,  4096,  7056, 17956, 26896,  8100,\n",
       "       16900, 10000,  2025,  4225,  7225, 12100,  3600,  7225, 14400,\n",
       "       25600,  4900,  7225, 12100, 22500,  3025,  8100,   900,  4900,\n",
       "        2025,  1225,  4900,  1225,  2500,   900,  2500,  4900,  1600,\n",
       "        4900, 10000,  3025,  7225,   900,  2500,   625,  1225,  4225,\n",
       "        7225,   900,  3600,  1600, 16900,  3600,  6400, 25600,  2025,\n",
       "        8100,  8100,  2601,  5041,  8281,  3600, 14400,   400,  2025,\n",
       "        2025,  4225,  5625,  7225,  7225, 11025,  4900,  8100, 12100,\n",
       "       19600,  1600,  3600, 10000,  2025,  5625,  5625,  2500,  1600,\n",
       "        5329,  2209,  3600,  1849,  5329,  8100, 14400, 19600,  4900,\n",
       "        8100,  3600, 10000, 14400,  7225,   625,  2025,  3600, 10000,\n",
       "        4900, 10000,  7225, 13225,  1600,  4900, 12100, 13225, 10000,\n",
       "        3025,  9025,  2304,  6084,  6400, 14400,  1600,  4900,  1681,\n",
       "        6561,  9025, 15625,   225,  3600,  4900,  8100,  5625, 13225,\n",
       "       27225,  1600,  4900,  4624,  2500, 16900, 22500,   529,  2500,\n",
       "        6400, 14400,  1600,  3600,  6400,  4096, 10816,  7056,  8100,\n",
       "         900,  5625,  9025, 18225, 21025,  3025,  5625, 18225, 21025,\n",
       "       10000,  2500,  5625,  6400, 10000,  8100, 16900, 10000, 22500,\n",
       "       22500, 32400, 22500, 32400, 10000, 22500, 32400,  4900,  9025,\n",
       "        4624,  7921, 11881,  3364,  6084, 10816,  2601,  4356,  7396,\n",
       "        3025,  5625, 14400,  2025,  7225,   625,  7225,  4225,  7225,\n",
       "       14400,   900,  4900, 15625, 27225,  1764,  2704,   841,  3481,\n",
       "        6241,  4761,  8836,   900,  6400,  2025,  4225, 11025,  1225,\n",
       "        3600,  2304,  6889, 10000,  2500,  6400,  4356,  5776, 18496,\n",
       "        3600, 15625,  3025,  6724,   900,  3969,  8649,   576,  7921,\n",
       "        6400,   625,    25,  4225,  8464,  4900,  8100, 16900, 28900,\n",
       "        7225,  4900, 12100, 21025,  5184, 12544,  2500,  8100,  3721,\n",
       "       11236, 10000,  2401,  4761,   400,  3844,  8464, 17424, 14400,\n",
       "        4900,  7225, 19600, 10000, 15129,  9025,  2500,  5776, 12100,\n",
       "        3600,  9025, 16900,  6400, 15625, 27225,  3025, 10000,  6400,\n",
       "        2500,  4225,  4225,  4225,  4225,  4225,  5625, 11025, 15625,\n",
       "       14400, 14400,  8100, 25600, 10000, 14400,  4900,  6400, 10000,\n",
       "        8100, 10000, 10609, 14400, 10000,  2025,  3600,  5625,  3969,\n",
       "        8649, 15129,  3025,  5625, 10000,  3025,  7225,  3600,  6400,\n",
       "       12100,  2500,  7744,  2809,  9604,  2809,  9604,  2809,  9604,\n",
       "         625,  3025,  3025,  5929, 13225,  3600, 10000,  5625, 11025,\n",
       "       18225,  2025,  3249,  7225, 18225,  3600,  3600,  6400, 11025,\n",
       "       19600,  2500,  4225,  9025, 10000, 15625,  2809,  3969, 10609,\n",
       "        2025,  3025, 10000,   729,  4489,  1225,  3600,  8464,  5184,\n",
       "        6724, 13689,  8100, 19600,   900,  7396,  4225,  9025,  5625,\n",
       "        8100,  3364,   900,  2500,  6084, 11664, 12544, 19600,  2500,\n",
       "        9025,  4225, 11025,  2500,  9025,   900,  2025,  3025,   900,\n",
       "        1600,  4225,  1936,  7569,  2500,  4225,  9025,  3600, 10000,\n",
       "        5625,  5625, 18225,  3025,  7225,  1600,  3600,  5625,  2209,\n",
       "        5929,  2500,  8836,  3025,  6400, 10000,  3025,  7225, 13225,\n",
       "        3025,  5625,   900,  1600,  3025,  7569, 13689, 21609,  4900,\n",
       "       12100,  2500,  1600,  4900,  4356,  7225, 15625, 14400,  5476,\n",
       "       15376,  7225, 15625, 12100,  6889, 15129,  3025,  4225,  9409,\n",
       "       11881,  4225,  7225, 11025,  7225,  3600,  8100, 16641,  8100,\n",
       "       13225, 10000, 13225, 11025, 14400, 22500, 15625, 21025, 16900,\n",
       "       28900, 14400,  5184,  5184,  5929, 16384, 14400,  3721,  6084,\n",
       "       11449,  2025,  3481,  4761,  3136,  3969,  9025,  1296,  3136,\n",
       "        2500,  5329,  6561,  1225,   484,  2704,  2500,  4624,  1444,\n",
       "        2025,  4225,  4225, 10000,  6724, 15376,  6400,  2304,  2304,\n",
       "        2304,  6400, 12100, 22500,  2500,  2704,  5184,  2304,  6400,\n",
       "        2916,  8464,  2704, 11025,  3600,  5625,  2809,  5329,  1444,\n",
       "        3025,  7921, 14641,  3481,  5929,  4225,  8464,  3364,  2500,\n",
       "        2500,  5625, 10000,  6400,  4900, 12100,  4356,  4356,  4356,\n",
       "        4356,  8100,  7225,  9025, 10000,  4761, 13689,   900,  4900,\n",
       "       17161, 17161, 10000, 10000, 25600, 12100, 25600, 12100],\n",
       "      dtype=int64)"
      ]
     },
     "execution_count": 24,
     "metadata": {},
     "output_type": "execute_result"
    }
   ],
   "source": [
    "X1**2"
   ]
  },
  {
   "cell_type": "code",
   "execution_count": 11,
   "metadata": {},
   "outputs": [
    {
     "data": {
      "text/plain": [
       "array([[    49.,     49.,   2401.,   2401.,   2401.],\n",
       "       [    62.,     63.,   3844.,   3906.,   3969.],\n",
       "       [    82.,     83.,   6724.,   6806.,   6889.],\n",
       "       ..., \n",
       "       [   110.,     60.,  12100.,   6600.,   3600.],\n",
       "       [   160.,     60.,  25600.,   9600.,   3600.],\n",
       "       [   110.,    120.,  12100.,  13200.,  14400.]])"
      ]
     },
     "execution_count": 11,
     "metadata": {},
     "output_type": "execute_result"
    }
   ],
   "source": [
    "from sklearn.preprocessing import PolynomialFeatures\n",
    "\n",
    "pf = PolynomialFeatures(degree=2, interaction_only=False, include_bias=False)\n",
    "res = pf.fit_transform(atk_def)\n",
    "res"
   ]
  },
  {
   "cell_type": "code",
   "execution_count": 12,
   "metadata": {},
   "outputs": [
    {
     "data": {
      "text/html": [
       "<div>\n",
       "<style>\n",
       "    .dataframe thead tr:only-child th {\n",
       "        text-align: right;\n",
       "    }\n",
       "\n",
       "    .dataframe thead th {\n",
       "        text-align: left;\n",
       "    }\n",
       "\n",
       "    .dataframe tbody tr th {\n",
       "        vertical-align: top;\n",
       "    }\n",
       "</style>\n",
       "<table border=\"1\" class=\"dataframe\">\n",
       "  <thead>\n",
       "    <tr style=\"text-align: right;\">\n",
       "      <th></th>\n",
       "      <th>Attack_degree</th>\n",
       "      <th>Defense_degree</th>\n",
       "    </tr>\n",
       "  </thead>\n",
       "  <tbody>\n",
       "    <tr>\n",
       "      <th>0</th>\n",
       "      <td>1</td>\n",
       "      <td>0</td>\n",
       "    </tr>\n",
       "    <tr>\n",
       "      <th>1</th>\n",
       "      <td>0</td>\n",
       "      <td>1</td>\n",
       "    </tr>\n",
       "    <tr>\n",
       "      <th>2</th>\n",
       "      <td>2</td>\n",
       "      <td>0</td>\n",
       "    </tr>\n",
       "    <tr>\n",
       "      <th>3</th>\n",
       "      <td>1</td>\n",
       "      <td>1</td>\n",
       "    </tr>\n",
       "    <tr>\n",
       "      <th>4</th>\n",
       "      <td>0</td>\n",
       "      <td>2</td>\n",
       "    </tr>\n",
       "  </tbody>\n",
       "</table>\n",
       "</div>"
      ],
      "text/plain": [
       "   Attack_degree  Defense_degree\n",
       "0              1               0\n",
       "1              0               1\n",
       "2              2               0\n",
       "3              1               1\n",
       "4              0               2"
      ]
     },
     "execution_count": 12,
     "metadata": {},
     "output_type": "execute_result"
    }
   ],
   "source": [
    "pd.DataFrame(pf.powers_, columns=['Attack_degree', 'Defense_degree'])"
   ]
  },
  {
   "cell_type": "code",
   "execution_count": 13,
   "metadata": {},
   "outputs": [
    {
     "data": {
      "text/html": [
       "<div>\n",
       "<style>\n",
       "    .dataframe thead tr:only-child th {\n",
       "        text-align: right;\n",
       "    }\n",
       "\n",
       "    .dataframe thead th {\n",
       "        text-align: left;\n",
       "    }\n",
       "\n",
       "    .dataframe tbody tr th {\n",
       "        vertical-align: top;\n",
       "    }\n",
       "</style>\n",
       "<table border=\"1\" class=\"dataframe\">\n",
       "  <thead>\n",
       "    <tr style=\"text-align: right;\">\n",
       "      <th></th>\n",
       "      <th>Attack</th>\n",
       "      <th>Defense</th>\n",
       "      <th>Attack^2</th>\n",
       "      <th>Attack x Defense</th>\n",
       "      <th>Defense^2</th>\n",
       "    </tr>\n",
       "  </thead>\n",
       "  <tbody>\n",
       "    <tr>\n",
       "      <th>0</th>\n",
       "      <td>49.0</td>\n",
       "      <td>49.0</td>\n",
       "      <td>2401.0</td>\n",
       "      <td>2401.0</td>\n",
       "      <td>2401.0</td>\n",
       "    </tr>\n",
       "    <tr>\n",
       "      <th>1</th>\n",
       "      <td>62.0</td>\n",
       "      <td>63.0</td>\n",
       "      <td>3844.0</td>\n",
       "      <td>3906.0</td>\n",
       "      <td>3969.0</td>\n",
       "    </tr>\n",
       "    <tr>\n",
       "      <th>2</th>\n",
       "      <td>82.0</td>\n",
       "      <td>83.0</td>\n",
       "      <td>6724.0</td>\n",
       "      <td>6806.0</td>\n",
       "      <td>6889.0</td>\n",
       "    </tr>\n",
       "    <tr>\n",
       "      <th>3</th>\n",
       "      <td>100.0</td>\n",
       "      <td>123.0</td>\n",
       "      <td>10000.0</td>\n",
       "      <td>12300.0</td>\n",
       "      <td>15129.0</td>\n",
       "    </tr>\n",
       "    <tr>\n",
       "      <th>4</th>\n",
       "      <td>52.0</td>\n",
       "      <td>43.0</td>\n",
       "      <td>2704.0</td>\n",
       "      <td>2236.0</td>\n",
       "      <td>1849.0</td>\n",
       "    </tr>\n",
       "  </tbody>\n",
       "</table>\n",
       "</div>"
      ],
      "text/plain": [
       "   Attack  Defense  Attack^2  Attack x Defense  Defense^2\n",
       "0    49.0     49.0    2401.0            2401.0     2401.0\n",
       "1    62.0     63.0    3844.0            3906.0     3969.0\n",
       "2    82.0     83.0    6724.0            6806.0     6889.0\n",
       "3   100.0    123.0   10000.0           12300.0    15129.0\n",
       "4    52.0     43.0    2704.0            2236.0     1849.0"
      ]
     },
     "execution_count": 13,
     "metadata": {},
     "output_type": "execute_result"
    }
   ],
   "source": [
    "intr_features = pd.DataFrame(res, columns=['Attack', 'Defense', 'Attack^2', 'Attack x Defense', 'Defense^2'])\n",
    "intr_features.head(5)  "
   ]
  },
  {
   "cell_type": "markdown",
   "metadata": {},
   "source": [
    "## Transforming new data in the future (during predictions)"
   ]
  },
  {
   "cell_type": "code",
   "execution_count": 14,
   "metadata": {},
   "outputs": [
    {
     "data": {
      "text/html": [
       "<div>\n",
       "<style>\n",
       "    .dataframe thead tr:only-child th {\n",
       "        text-align: right;\n",
       "    }\n",
       "\n",
       "    .dataframe thead th {\n",
       "        text-align: left;\n",
       "    }\n",
       "\n",
       "    .dataframe tbody tr th {\n",
       "        vertical-align: top;\n",
       "    }\n",
       "</style>\n",
       "<table border=\"1\" class=\"dataframe\">\n",
       "  <thead>\n",
       "    <tr style=\"text-align: right;\">\n",
       "      <th></th>\n",
       "      <th>Attack</th>\n",
       "      <th>Defense</th>\n",
       "    </tr>\n",
       "  </thead>\n",
       "  <tbody>\n",
       "    <tr>\n",
       "      <th>0</th>\n",
       "      <td>95</td>\n",
       "      <td>75</td>\n",
       "    </tr>\n",
       "    <tr>\n",
       "      <th>1</th>\n",
       "      <td>121</td>\n",
       "      <td>120</td>\n",
       "    </tr>\n",
       "    <tr>\n",
       "      <th>2</th>\n",
       "      <td>77</td>\n",
       "      <td>60</td>\n",
       "    </tr>\n",
       "  </tbody>\n",
       "</table>\n",
       "</div>"
      ],
      "text/plain": [
       "   Attack  Defense\n",
       "0      95       75\n",
       "1     121      120\n",
       "2      77       60"
      ]
     },
     "execution_count": 14,
     "metadata": {},
     "output_type": "execute_result"
    }
   ],
   "source": [
    "new_df = pd.DataFrame([[95, 75],[121, 120], [77, 60]], \n",
    "                      columns=['Attack', 'Defense'])\n",
    "new_df"
   ]
  },
  {
   "cell_type": "code",
   "execution_count": 15,
   "metadata": {},
   "outputs": [
    {
     "data": {
      "text/html": [
       "<div>\n",
       "<style>\n",
       "    .dataframe thead tr:only-child th {\n",
       "        text-align: right;\n",
       "    }\n",
       "\n",
       "    .dataframe thead th {\n",
       "        text-align: left;\n",
       "    }\n",
       "\n",
       "    .dataframe tbody tr th {\n",
       "        vertical-align: top;\n",
       "    }\n",
       "</style>\n",
       "<table border=\"1\" class=\"dataframe\">\n",
       "  <thead>\n",
       "    <tr style=\"text-align: right;\">\n",
       "      <th></th>\n",
       "      <th>Attack</th>\n",
       "      <th>Defense</th>\n",
       "      <th>Attack^2</th>\n",
       "      <th>Attack x Defense</th>\n",
       "      <th>Defense^2</th>\n",
       "    </tr>\n",
       "  </thead>\n",
       "  <tbody>\n",
       "    <tr>\n",
       "      <th>0</th>\n",
       "      <td>95.0</td>\n",
       "      <td>75.0</td>\n",
       "      <td>9025.0</td>\n",
       "      <td>7125.0</td>\n",
       "      <td>5625.0</td>\n",
       "    </tr>\n",
       "    <tr>\n",
       "      <th>1</th>\n",
       "      <td>121.0</td>\n",
       "      <td>120.0</td>\n",
       "      <td>14641.0</td>\n",
       "      <td>14520.0</td>\n",
       "      <td>14400.0</td>\n",
       "    </tr>\n",
       "    <tr>\n",
       "      <th>2</th>\n",
       "      <td>77.0</td>\n",
       "      <td>60.0</td>\n",
       "      <td>5929.0</td>\n",
       "      <td>4620.0</td>\n",
       "      <td>3600.0</td>\n",
       "    </tr>\n",
       "  </tbody>\n",
       "</table>\n",
       "</div>"
      ],
      "text/plain": [
       "   Attack  Defense  Attack^2  Attack x Defense  Defense^2\n",
       "0    95.0     75.0    9025.0            7125.0     5625.0\n",
       "1   121.0    120.0   14641.0           14520.0    14400.0\n",
       "2    77.0     60.0    5929.0            4620.0     3600.0"
      ]
     },
     "execution_count": 15,
     "metadata": {},
     "output_type": "execute_result"
    }
   ],
   "source": [
    "new_res = pd.transform(new_df)\n",
    "new_intr_features = pd.DataFrame(new_res, \n",
    "                                 columns=['Attack', 'Defense', \n",
    "                                          'Attack^2', 'Attack x Defense', 'Defense^2'])\n",
    "new_intr_features"
   ]
  },
  {
   "cell_type": "markdown",
   "metadata": {},
   "source": [
    "# Binning"
   ]
  },
  {
   "cell_type": "code",
   "execution_count": 25,
   "metadata": {},
   "outputs": [
    {
     "data": {
      "text/html": [
       "<div>\n",
       "<style scoped>\n",
       "    .dataframe tbody tr th:only-of-type {\n",
       "        vertical-align: middle;\n",
       "    }\n",
       "\n",
       "    .dataframe tbody tr th {\n",
       "        vertical-align: top;\n",
       "    }\n",
       "\n",
       "    .dataframe thead th {\n",
       "        text-align: right;\n",
       "    }\n",
       "</style>\n",
       "<table border=\"1\" class=\"dataframe\">\n",
       "  <thead>\n",
       "    <tr style=\"text-align: right;\">\n",
       "      <th></th>\n",
       "      <th>ID.x</th>\n",
       "      <th>EmploymentField</th>\n",
       "      <th>Age</th>\n",
       "      <th>Income</th>\n",
       "    </tr>\n",
       "  </thead>\n",
       "  <tbody>\n",
       "    <tr>\n",
       "      <th>0</th>\n",
       "      <td>cef35615d61b202f1dc794ef2746df14</td>\n",
       "      <td>office and administrative support</td>\n",
       "      <td>28.0</td>\n",
       "      <td>32000.0</td>\n",
       "    </tr>\n",
       "    <tr>\n",
       "      <th>1</th>\n",
       "      <td>323e5a113644d18185c743c241407754</td>\n",
       "      <td>food and beverage</td>\n",
       "      <td>22.0</td>\n",
       "      <td>15000.0</td>\n",
       "    </tr>\n",
       "    <tr>\n",
       "      <th>2</th>\n",
       "      <td>b29a1027e5cd062e654a63764157461d</td>\n",
       "      <td>finance</td>\n",
       "      <td>19.0</td>\n",
       "      <td>48000.0</td>\n",
       "    </tr>\n",
       "    <tr>\n",
       "      <th>3</th>\n",
       "      <td>04a11e4bcb573a1261eb0d9948d32637</td>\n",
       "      <td>arts, entertainment, sports, or media</td>\n",
       "      <td>26.0</td>\n",
       "      <td>43000.0</td>\n",
       "    </tr>\n",
       "    <tr>\n",
       "      <th>4</th>\n",
       "      <td>9368291c93d5d5f5c8cdb1a575e18bec</td>\n",
       "      <td>education</td>\n",
       "      <td>20.0</td>\n",
       "      <td>6000.0</td>\n",
       "    </tr>\n",
       "  </tbody>\n",
       "</table>\n",
       "</div>"
      ],
      "text/plain": [
       "                               ID.x                        EmploymentField  \\\n",
       "0  cef35615d61b202f1dc794ef2746df14      office and administrative support   \n",
       "1  323e5a113644d18185c743c241407754                      food and beverage   \n",
       "2  b29a1027e5cd062e654a63764157461d                                finance   \n",
       "3  04a11e4bcb573a1261eb0d9948d32637  arts, entertainment, sports, or media   \n",
       "4  9368291c93d5d5f5c8cdb1a575e18bec                              education   \n",
       "\n",
       "    Age   Income  \n",
       "0  28.0  32000.0  \n",
       "1  22.0  15000.0  \n",
       "2  19.0  48000.0  \n",
       "3  26.0  43000.0  \n",
       "4  20.0   6000.0  "
      ]
     },
     "execution_count": 25,
     "metadata": {},
     "output_type": "execute_result"
    }
   ],
   "source": [
    "fcc_survey_df = pd.read_csv('datasets/fcc_2016_coder_survey_subset.csv', encoding='utf-8')\n",
    "fcc_survey_df[['ID.x', 'EmploymentField', 'Age', 'Income']].head()"
   ]
  },
  {
   "cell_type": "markdown",
   "metadata": {},
   "source": [
    "## Fixed-width binning"
   ]
  },
  {
   "cell_type": "markdown",
   "metadata": {},
   "source": [
    "### Developer age distribution"
   ]
  },
  {
   "cell_type": "code",
   "execution_count": 27,
   "metadata": {},
   "outputs": [
    {
     "data": {
      "text/plain": [
       "Text(0, 0.5, 'Frequency')"
      ]
     },
     "execution_count": 27,
     "metadata": {},
     "output_type": "execute_result"
    },
    {
     "data": {
      "image/png": "[encoded data removed]",
      "text/plain": [
       "<Figure size 600x400 with 1 Axes>"
      ]
     },
     "metadata": {
      "needs_background": "light"
     },
     "output_type": "display_data"
    }
   ],
   "source": [
    "fig, ax = plt.subplots()\n",
    "fcc_survey_df['Age'].hist(color='#A9C5D3', bins=15)\n",
    "ax.set_title('Developer Age Histogram', fontsize=12)\n",
    "ax.set_xlabel('Age', fontsize=12)\n",
    "ax.set_ylabel('Frequency', fontsize=12)"
   ]
  },
  {
   "cell_type": "markdown",
   "metadata": {},
   "source": [
    "### Binning based on rounding\n",
    "\n",
    "``` \n",
    "Age Range: Bin\n",
    "---------------\n",
    " 0 -  9  : 0\n",
    "10 - 19  : 1\n",
    "20 - 29  : 2\n",
    "30 - 39  : 3\n",
    "40 - 49  : 4\n",
    "50 - 59  : 5\n",
    "60 - 69  : 6\n",
    "  ... and so on\n",
    "```"
   ]
  },
  {
   "cell_type": "code",
   "execution_count": 29,
   "metadata": {},
   "outputs": [
    {
     "data": {
      "text/html": [
       "<div>\n",
       "<style scoped>\n",
       "    .dataframe tbody tr th:only-of-type {\n",
       "        vertical-align: middle;\n",
       "    }\n",
       "\n",
       "    .dataframe tbody tr th {\n",
       "        vertical-align: top;\n",
       "    }\n",
       "\n",
       "    .dataframe thead th {\n",
       "        text-align: right;\n",
       "    }\n",
       "</style>\n",
       "<table border=\"1\" class=\"dataframe\">\n",
       "  <thead>\n",
       "    <tr style=\"text-align: right;\">\n",
       "      <th></th>\n",
       "      <th>ID.x</th>\n",
       "      <th>Age</th>\n",
       "      <th>Age_bin_round</th>\n",
       "    </tr>\n",
       "  </thead>\n",
       "  <tbody>\n",
       "    <tr>\n",
       "      <th>1071</th>\n",
       "      <td>6a02aa4618c99fdb3e24de522a099431</td>\n",
       "      <td>17.0</td>\n",
       "      <td>1.0</td>\n",
       "    </tr>\n",
       "    <tr>\n",
       "      <th>1072</th>\n",
       "      <td>f0e5e47278c5f248fe861c5f7214c07a</td>\n",
       "      <td>38.0</td>\n",
       "      <td>3.0</td>\n",
       "    </tr>\n",
       "    <tr>\n",
       "      <th>1073</th>\n",
       "      <td>6e14f6d0779b7e424fa3fdd9e4bd3bf9</td>\n",
       "      <td>21.0</td>\n",
       "      <td>2.0</td>\n",
       "    </tr>\n",
       "    <tr>\n",
       "      <th>1074</th>\n",
       "      <td>c2654c07dc929cdf3dad4d1aec4ffbb3</td>\n",
       "      <td>53.0</td>\n",
       "      <td>5.0</td>\n",
       "    </tr>\n",
       "    <tr>\n",
       "      <th>1075</th>\n",
       "      <td>f07449fc9339b2e57703ec7886232523</td>\n",
       "      <td>35.0</td>\n",
       "      <td>3.0</td>\n",
       "    </tr>\n",
       "  </tbody>\n",
       "</table>\n",
       "</div>"
      ],
      "text/plain": [
       "                                  ID.x   Age  Age_bin_round\n",
       "1071  6a02aa4618c99fdb3e24de522a099431  17.0            1.0\n",
       "1072  f0e5e47278c5f248fe861c5f7214c07a  38.0            3.0\n",
       "1073  6e14f6d0779b7e424fa3fdd9e4bd3bf9  21.0            2.0\n",
       "1074  c2654c07dc929cdf3dad4d1aec4ffbb3  53.0            5.0\n",
       "1075  f07449fc9339b2e57703ec7886232523  35.0            3.0"
      ]
     },
     "execution_count": 29,
     "metadata": {},
     "output_type": "execute_result"
    }
   ],
   "source": [
    "fcc_survey_df['Age_bin_round'] = np.array(np.floor(np.array(fcc_survey_df['Age']) / 10.))\n",
    "fcc_survey_df[['ID.x', 'Age', 'Age_bin_round']].iloc[1071:1076]"
   ]
  },
  {
   "cell_type": "markdown",
   "metadata": {},
   "source": [
    "### Binning based on custom ranges\n",
    "\n",
    "``` \n",
    "Age Range : Bin\n",
    "---------------\n",
    " 0 -  15  : 1\n",
    "16 -  30  : 2\n",
    "31 -  45  : 3\n",
    "46 -  60  : 4\n",
    "61 -  75  : 5\n",
    "75 - 100  : 6\n",
    "```"
   ]
  },
  {
   "cell_type": "code",
   "execution_count": 30,
   "metadata": {},
   "outputs": [
    {
     "data": {
      "text/html": [
       "<div>\n",
       "<style scoped>\n",
       "    .dataframe tbody tr th:only-of-type {\n",
       "        vertical-align: middle;\n",
       "    }\n",
       "\n",
       "    .dataframe tbody tr th {\n",
       "        vertical-align: top;\n",
       "    }\n",
       "\n",
       "    .dataframe thead th {\n",
       "        text-align: right;\n",
       "    }\n",
       "</style>\n",
       "<table border=\"1\" class=\"dataframe\">\n",
       "  <thead>\n",
       "    <tr style=\"text-align: right;\">\n",
       "      <th></th>\n",
       "      <th>ID.x</th>\n",
       "      <th>Age</th>\n",
       "      <th>Age_bin_round</th>\n",
       "      <th>Age_bin_custom_range</th>\n",
       "      <th>Age_bin_custom_label</th>\n",
       "    </tr>\n",
       "  </thead>\n",
       "  <tbody>\n",
       "    <tr>\n",
       "      <th>1071</th>\n",
       "      <td>6a02aa4618c99fdb3e24de522a099431</td>\n",
       "      <td>17.0</td>\n",
       "      <td>1.0</td>\n",
       "      <td>(15, 30]</td>\n",
       "      <td>2</td>\n",
       "    </tr>\n",
       "    <tr>\n",
       "      <th>1072</th>\n",
       "      <td>f0e5e47278c5f248fe861c5f7214c07a</td>\n",
       "      <td>38.0</td>\n",
       "      <td>3.0</td>\n",
       "      <td>(30, 45]</td>\n",
       "      <td>3</td>\n",
       "    </tr>\n",
       "    <tr>\n",
       "      <th>1073</th>\n",
       "      <td>6e14f6d0779b7e424fa3fdd9e4bd3bf9</td>\n",
       "      <td>21.0</td>\n",
       "      <td>2.0</td>\n",
       "      <td>(15, 30]</td>\n",
       "      <td>2</td>\n",
       "    </tr>\n",
       "    <tr>\n",
       "      <th>1074</th>\n",
       "      <td>c2654c07dc929cdf3dad4d1aec4ffbb3</td>\n",
       "      <td>53.0</td>\n",
       "      <td>5.0</td>\n",
       "      <td>(45, 60]</td>\n",
       "      <td>4</td>\n",
       "    </tr>\n",
       "    <tr>\n",
       "      <th>1075</th>\n",
       "      <td>f07449fc9339b2e57703ec7886232523</td>\n",
       "      <td>35.0</td>\n",
       "      <td>3.0</td>\n",
       "      <td>(30, 45]</td>\n",
       "      <td>3</td>\n",
       "    </tr>\n",
       "  </tbody>\n",
       "</table>\n",
       "</div>"
      ],
      "text/plain": [
       "                                  ID.x   Age  Age_bin_round  \\\n",
       "1071  6a02aa4618c99fdb3e24de522a099431  17.0            1.0   \n",
       "1072  f0e5e47278c5f248fe861c5f7214c07a  38.0            3.0   \n",
       "1073  6e14f6d0779b7e424fa3fdd9e4bd3bf9  21.0            2.0   \n",
       "1074  c2654c07dc929cdf3dad4d1aec4ffbb3  53.0            5.0   \n",
       "1075  f07449fc9339b2e57703ec7886232523  35.0            3.0   \n",
       "\n",
       "     Age_bin_custom_range Age_bin_custom_label  \n",
       "1071             (15, 30]                    2  \n",
       "1072             (30, 45]                    3  \n",
       "1073             (15, 30]                    2  \n",
       "1074             (45, 60]                    4  \n",
       "1075             (30, 45]                    3  "
      ]
     },
     "execution_count": 30,
     "metadata": {},
     "output_type": "execute_result"
    }
   ],
   "source": [
    "bin_ranges = [0, 15, 30, 45, 60, 75, 100]\n",
    "bin_names = [1, 2, 3, 4, 5, 6]\n",
    "fcc_survey_df['Age_bin_custom_range'] = pd.cut(np.array(fcc_survey_df['Age']), \n",
    "                                               bins=bin_ranges)\n",
    "fcc_survey_df['Age_bin_custom_label'] = pd.cut(np.array(fcc_survey_df['Age']), \n",
    "                                               bins=bin_ranges, labels=bin_names)\n",
    "fcc_survey_df[['ID.x', 'Age', 'Age_bin_round', \n",
    "               'Age_bin_custom_range', 'Age_bin_custom_label']].iloc[1071:1076]"
   ]
  },
  {
   "cell_type": "markdown",
   "metadata": {},
   "source": [
    "## Quantile based binning"
   ]
  },
  {
   "cell_type": "code",
   "execution_count": 20,
   "metadata": {},
   "outputs": [
    {
     "data": {
      "text/html": [
       "<div>\n",
       "<style>\n",
       "    .dataframe thead tr:only-child th {\n",
       "        text-align: right;\n",
       "    }\n",
       "\n",
       "    .dataframe thead th {\n",
       "        text-align: left;\n",
       "    }\n",
       "\n",
       "    .dataframe tbody tr th {\n",
       "        vertical-align: top;\n",
       "    }\n",
       "</style>\n",
       "<table border=\"1\" class=\"dataframe\">\n",
       "  <thead>\n",
       "    <tr style=\"text-align: right;\">\n",
       "      <th></th>\n",
       "      <th>ID.x</th>\n",
       "      <th>Age</th>\n",
       "      <th>Income</th>\n",
       "    </tr>\n",
       "  </thead>\n",
       "  <tbody>\n",
       "    <tr>\n",
       "      <th>4</th>\n",
       "      <td>9368291c93d5d5f5c8cdb1a575e18bec</td>\n",
       "      <td>20.0</td>\n",
       "      <td>6000.0</td>\n",
       "    </tr>\n",
       "    <tr>\n",
       "      <th>5</th>\n",
       "      <td>dd0e77eab9270e4b67c19b0d6bbf621b</td>\n",
       "      <td>34.0</td>\n",
       "      <td>40000.0</td>\n",
       "    </tr>\n",
       "    <tr>\n",
       "      <th>6</th>\n",
       "      <td>7599c0aa0419b59fd11ffede98a3665d</td>\n",
       "      <td>23.0</td>\n",
       "      <td>32000.0</td>\n",
       "    </tr>\n",
       "    <tr>\n",
       "      <th>7</th>\n",
       "      <td>6dff182db452487f07a47596f314bddc</td>\n",
       "      <td>35.0</td>\n",
       "      <td>40000.0</td>\n",
       "    </tr>\n",
       "    <tr>\n",
       "      <th>8</th>\n",
       "      <td>9dc233f8ed1c6eb2432672ab4bb39249</td>\n",
       "      <td>33.0</td>\n",
       "      <td>80000.0</td>\n",
       "    </tr>\n",
       "  </tbody>\n",
       "</table>\n",
       "</div>"
      ],
      "text/plain": [
       "                               ID.x   Age   Income\n",
       "4  9368291c93d5d5f5c8cdb1a575e18bec  20.0   6000.0\n",
       "5  dd0e77eab9270e4b67c19b0d6bbf621b  34.0  40000.0\n",
       "6  7599c0aa0419b59fd11ffede98a3665d  23.0  32000.0\n",
       "7  6dff182db452487f07a47596f314bddc  35.0  40000.0\n",
       "8  9dc233f8ed1c6eb2432672ab4bb39249  33.0  80000.0"
      ]
     },
     "execution_count": 20,
     "metadata": {},
     "output_type": "execute_result"
    }
   ],
   "source": [
    "fcc_survey_df[['ID.x', 'Age', 'Income']].iloc[4:9]"
   ]
  },
  {
   "cell_type": "code",
   "execution_count": 21,
   "metadata": {},
   "outputs": [
    {
     "data": {
      "text/plain": [
       "<matplotlib.text.Text at 0x1d51322a208>"
      ]
     },
     "execution_count": 21,
     "metadata": {},
     "output_type": "execute_result"
    },
    {
     "data": {
      "image/png": "[encoded data removed]",
      "text/plain": [
       "<matplotlib.figure.Figure at 0x1d513130710>"
      ]
     },
     "metadata": {},
     "output_type": "display_data"
    }
   ],
   "source": [
    "fig, ax = plt.subplots()\n",
    "fcc_survey_df['Income'].hist(bins=30, color='#A9C5D3')\n",
    "ax.set_title('Developer Income Histogram', fontsize=12)\n",
    "ax.set_xlabel('Developer Income', fontsize=12)\n",
    "ax.set_ylabel('Frequency', fontsize=12)"
   ]
  },
  {
   "cell_type": "code",
   "execution_count": 22,
   "metadata": {},
   "outputs": [
    {
     "data": {
      "text/plain": [
       "0.00      6000.0\n",
       "0.25     20000.0\n",
       "0.50     37000.0\n",
       "0.75     60000.0\n",
       "1.00    200000.0\n",
       "Name: Income, dtype: float64"
      ]
     },
     "execution_count": 22,
     "metadata": {},
     "output_type": "execute_result"
    }
   ],
   "source": [
    "quantile_list = [0, .25, .5, .75, 1.]\n",
    "quantiles = fcc_survey_df['Income'].quantile(quantile_list)\n",
    "quantiles"
   ]
  },
  {
   "cell_type": "code",
   "execution_count": 23,
   "metadata": {
    "scrolled": true
   },
   "outputs": [
    {
     "data": {
      "text/plain": [
       "<matplotlib.text.Text at 0x1d51333fe80>"
      ]
     },
     "execution_count": 23,
     "metadata": {},
     "output_type": "execute_result"
    },
    {
     "data": {
      "image/png": "[encoded data removed]",
      "text/plain": [
       "<matplotlib.figure.Figure at 0x1d5132c65c0>"
      ]
     },
     "metadata": {},
     "output_type": "display_data"
    }
   ],
   "source": [
    "fig, ax = plt.subplots()\n",
    "fcc_survey_df['Income'].hist(bins=30, color='#A9C5D3')\n",
    "\n",
    "for quantile in quantiles:\n",
    "    qvl = plt.axvline(quantile, color='r')\n",
    "ax.legend([qvl], ['Quantiles'], fontsize=10)\n",
    "\n",
    "ax.set_title('Developer Income Histogram with Quantiles', fontsize=12)\n",
    "ax.set_xlabel('Developer Income', fontsize=12)\n",
    "ax.set_ylabel('Frequency', fontsize=12)"
   ]
  },
  {
   "cell_type": "code",
   "execution_count": 24,
   "metadata": {},
   "outputs": [
    {
     "data": {
      "text/html": [
       "<div>\n",
       "<style>\n",
       "    .dataframe thead tr:only-child th {\n",
       "        text-align: right;\n",
       "    }\n",
       "\n",
       "    .dataframe thead th {\n",
       "        text-align: left;\n",
       "    }\n",
       "\n",
       "    .dataframe tbody tr th {\n",
       "        vertical-align: top;\n",
       "    }\n",
       "</style>\n",
       "<table border=\"1\" class=\"dataframe\">\n",
       "  <thead>\n",
       "    <tr style=\"text-align: right;\">\n",
       "      <th></th>\n",
       "      <th>ID.x</th>\n",
       "      <th>Age</th>\n",
       "      <th>Income</th>\n",
       "      <th>Income_quantile_range</th>\n",
       "      <th>Income_quantile_label</th>\n",
       "    </tr>\n",
       "  </thead>\n",
       "  <tbody>\n",
       "    <tr>\n",
       "      <th>4</th>\n",
       "      <td>9368291c93d5d5f5c8cdb1a575e18bec</td>\n",
       "      <td>20.0</td>\n",
       "      <td>6000.0</td>\n",
       "      <td>(5999.999, 20000.0]</td>\n",
       "      <td>0-25Q</td>\n",
       "    </tr>\n",
       "    <tr>\n",
       "      <th>5</th>\n",
       "      <td>dd0e77eab9270e4b67c19b0d6bbf621b</td>\n",
       "      <td>34.0</td>\n",
       "      <td>40000.0</td>\n",
       "      <td>(37000.0, 60000.0]</td>\n",
       "      <td>50-75Q</td>\n",
       "    </tr>\n",
       "    <tr>\n",
       "      <th>6</th>\n",
       "      <td>7599c0aa0419b59fd11ffede98a3665d</td>\n",
       "      <td>23.0</td>\n",
       "      <td>32000.0</td>\n",
       "      <td>(20000.0, 37000.0]</td>\n",
       "      <td>25-50Q</td>\n",
       "    </tr>\n",
       "    <tr>\n",
       "      <th>7</th>\n",
       "      <td>6dff182db452487f07a47596f314bddc</td>\n",
       "      <td>35.0</td>\n",
       "      <td>40000.0</td>\n",
       "      <td>(37000.0, 60000.0]</td>\n",
       "      <td>50-75Q</td>\n",
       "    </tr>\n",
       "    <tr>\n",
       "      <th>8</th>\n",
       "      <td>9dc233f8ed1c6eb2432672ab4bb39249</td>\n",
       "      <td>33.0</td>\n",
       "      <td>80000.0</td>\n",
       "      <td>(60000.0, 200000.0]</td>\n",
       "      <td>75-100Q</td>\n",
       "    </tr>\n",
       "  </tbody>\n",
       "</table>\n",
       "</div>"
      ],
      "text/plain": [
       "                               ID.x   Age   Income Income_quantile_range  \\\n",
       "4  9368291c93d5d5f5c8cdb1a575e18bec  20.0   6000.0   (5999.999, 20000.0]   \n",
       "5  dd0e77eab9270e4b67c19b0d6bbf621b  34.0  40000.0    (37000.0, 60000.0]   \n",
       "6  7599c0aa0419b59fd11ffede98a3665d  23.0  32000.0    (20000.0, 37000.0]   \n",
       "7  6dff182db452487f07a47596f314bddc  35.0  40000.0    (37000.0, 60000.0]   \n",
       "8  9dc233f8ed1c6eb2432672ab4bb39249  33.0  80000.0   (60000.0, 200000.0]   \n",
       "\n",
       "  Income_quantile_label  \n",
       "4                 0-25Q  \n",
       "5                50-75Q  \n",
       "6                25-50Q  \n",
       "7                50-75Q  \n",
       "8               75-100Q  "
      ]
     },
     "execution_count": 24,
     "metadata": {},
     "output_type": "execute_result"
    }
   ],
   "source": [
    "quantile_labels = ['0-25Q', '25-50Q', '50-75Q', '75-100Q']\n",
    "fcc_survey_df['Income_quantile_range'] = pd.qcut(fcc_survey_df['Income'], \n",
    "                                                 q=quantile_list)\n",
    "fcc_survey_df['Income_quantile_label'] = pd.qcut(fcc_survey_df['Income'], \n",
    "                                                 q=quantile_list, labels=quantile_labels)\n",
    "fcc_survey_df[['ID.x', 'Age', 'Income', \n",
    "               'Income_quantile_range', 'Income_quantile_label']].iloc[4:9]"
   ]
  },
  {
   "cell_type": "markdown",
   "metadata": {},
   "source": [
    "# Mathematical Transformations"
   ]
  },
  {
   "cell_type": "markdown",
   "metadata": {},
   "source": [
    "## Log transform"
   ]
  },
  {
   "cell_type": "code",
   "execution_count": 25,
   "metadata": {},
   "outputs": [
    {
     "data": {
      "text/html": [
       "<div>\n",
       "<style>\n",
       "    .dataframe thead tr:only-child th {\n",
       "        text-align: right;\n",
       "    }\n",
       "\n",
       "    .dataframe thead th {\n",
       "        text-align: left;\n",
       "    }\n",
       "\n",
       "    .dataframe tbody tr th {\n",
       "        vertical-align: top;\n",
       "    }\n",
       "</style>\n",
       "<table border=\"1\" class=\"dataframe\">\n",
       "  <thead>\n",
       "    <tr style=\"text-align: right;\">\n",
       "      <th></th>\n",
       "      <th>ID.x</th>\n",
       "      <th>Age</th>\n",
       "      <th>Income</th>\n",
       "      <th>Income_log</th>\n",
       "    </tr>\n",
       "  </thead>\n",
       "  <tbody>\n",
       "    <tr>\n",
       "      <th>4</th>\n",
       "      <td>9368291c93d5d5f5c8cdb1a575e18bec</td>\n",
       "      <td>20.0</td>\n",
       "      <td>6000.0</td>\n",
       "      <td>8.699681</td>\n",
       "    </tr>\n",
       "    <tr>\n",
       "      <th>5</th>\n",
       "      <td>dd0e77eab9270e4b67c19b0d6bbf621b</td>\n",
       "      <td>34.0</td>\n",
       "      <td>40000.0</td>\n",
       "      <td>10.596660</td>\n",
       "    </tr>\n",
       "    <tr>\n",
       "      <th>6</th>\n",
       "      <td>7599c0aa0419b59fd11ffede98a3665d</td>\n",
       "      <td>23.0</td>\n",
       "      <td>32000.0</td>\n",
       "      <td>10.373522</td>\n",
       "    </tr>\n",
       "    <tr>\n",
       "      <th>7</th>\n",
       "      <td>6dff182db452487f07a47596f314bddc</td>\n",
       "      <td>35.0</td>\n",
       "      <td>40000.0</td>\n",
       "      <td>10.596660</td>\n",
       "    </tr>\n",
       "    <tr>\n",
       "      <th>8</th>\n",
       "      <td>9dc233f8ed1c6eb2432672ab4bb39249</td>\n",
       "      <td>33.0</td>\n",
       "      <td>80000.0</td>\n",
       "      <td>11.289794</td>\n",
       "    </tr>\n",
       "  </tbody>\n",
       "</table>\n",
       "</div>"
      ],
      "text/plain": [
       "                               ID.x   Age   Income  Income_log\n",
       "4  9368291c93d5d5f5c8cdb1a575e18bec  20.0   6000.0    8.699681\n",
       "5  dd0e77eab9270e4b67c19b0d6bbf621b  34.0  40000.0   10.596660\n",
       "6  7599c0aa0419b59fd11ffede98a3665d  23.0  32000.0   10.373522\n",
       "7  6dff182db452487f07a47596f314bddc  35.0  40000.0   10.596660\n",
       "8  9dc233f8ed1c6eb2432672ab4bb39249  33.0  80000.0   11.289794"
      ]
     },
     "execution_count": 25,
     "metadata": {},
     "output_type": "execute_result"
    }
   ],
   "source": [
    "fcc_survey_df['Income_log'] = np.log((1+ fcc_survey_df['Income']))\n",
    "fcc_survey_df[['ID.x', 'Age', 'Income', 'Income_log']].iloc[4:9]"
   ]
  },
  {
   "cell_type": "code",
   "execution_count": 26,
   "metadata": {},
   "outputs": [
    {
     "data": {
      "text/plain": [
       "<matplotlib.text.Text at 0x1d5134d9780>"
      ]
     },
     "execution_count": 26,
     "metadata": {},
     "output_type": "execute_result"
    },
    {
     "data": {
      "image/png": "[encoded data removed]",
      "text/plain": [
       "<matplotlib.figure.Figure at 0x1d51341b4e0>"
      ]
     },
     "metadata": {},
     "output_type": "display_data"
    }
   ],
   "source": [
    "income_log_mean = np.round(np.mean(fcc_survey_df['Income_log']), 2)\n",
    "\n",
    "fig, ax = plt.subplots()\n",
    "fcc_survey_df['Income_log'].hist(bins=30, color='#A9C5D3')\n",
    "plt.axvline(income_log_mean, color='r')\n",
    "ax.set_title('Developer Income Histogram after Log Transform', fontsize=12)\n",
    "ax.set_xlabel('Developer Income (log scale)', fontsize=12)\n",
    "ax.set_ylabel('Frequency', fontsize=12)\n",
    "ax.text(11.5, 450, r'$\\mu$='+str(income_log_mean), fontsize=10)"
   ]
  },
  {
   "cell_type": "markdown",
   "metadata": {},
   "source": [
    "## Box–Cox transform"
   ]
  },
  {
   "cell_type": "code",
   "execution_count": 34,
   "metadata": {},
   "outputs": [
    {
     "name": "stdout",
     "output_type": "stream",
     "text": [
      "Optimal lambda value: 0.11799122497648248\n"
     ]
    }
   ],
   "source": [
    "# get optimal lambda value from non null income values\n",
    "income = np.array(fcc_survey_df['Income'])\n",
    "income_clean = income[~np.isnan(income)]\n",
    "l, opt_lambda = spstats.boxcox(income_clean)\n",
    "print('Optimal lambda value:', opt_lambda)"
   ]
  },
  {
   "cell_type": "code",
   "execution_count": 41,
   "metadata": {},
   "outputs": [],
   "source": [
    "fcc_survey_df['Income_boxcox_lambda_0'] = spstats.boxcox((1+fcc_survey_df['Income']), \n",
    "                                                         lmbda=0)\n",
    "fcc_survey_df['Income_boxcox_lambda_opt'] = spstats.boxcox(fcc_survey_df['Income'], \n",
    "                                                           lmbda=opt_lambda)\n",
    "# fcc_survey_df[['ID.x', 'Age', 'Income', 'Income_log', \\\n",
    "#                'Income_boxcox_lambda_0', 'Income_boxcox_lambda_opt']].iloc[4:9]"
   ]
  },
  {
   "cell_type": "code",
   "execution_count": 37,
   "metadata": {},
   "outputs": [
    {
     "data": {
      "image/png": "[encoded data removed]",
      "text/plain": [
       "<Figure size 600x400 with 1 Axes>"
      ]
     },
     "metadata": {
      "needs_background": "light"
     },
     "output_type": "display_data"
    }
   ],
   "source": [
    "income_boxcox_mean = np.round(np.mean(fcc_survey_df['Income_boxcox_lambda_opt']), 2)\n",
    "\n",
    "fig, ax = plt.subplots()\n",
    "fcc_survey_df['Income_boxcox_lambda_opt'].hist(bins=30, color='#A9C5D3')\n",
    "plt.axvline(income_boxcox_mean, color='r')\n",
    "ax.set_title('Developer Income Histogram after Box–Cox Transform', fontsize=12)\n",
    "ax.set_xlabel('Developer Income (Box–Cox transform)', fontsize=12)\n",
    "ax.set_ylabel('Frequency', fontsize=12)\n",
    "ax.text(24, 450, r'$\\mu$='+str(income_boxcox_mean), fontsize=10)\n",
    "fig.savefig(r'BoxCox.png', dpi=300)"
   ]
  },
  {
   "cell_type": "code",
   "execution_count": null,
   "metadata": {},
   "outputs": [],
   "source": []
  }
 ],
 "metadata": {
  "anaconda-cloud": {},
  "kernelspec": {
   "display_name": "Python 3",
   "language": "python",
   "name": "python3"
  },
  "language_info": {
   "codemirror_mode": {
    "name": "ipython",
    "version": 3
   },
   "file_extension": ".py",
   "mimetype": "text/x-python",
   "name": "python",
   "nbconvert_exporter": "python",
   "pygments_lexer": "ipython3",
   "version": "3.7.6"
  }
 },
 "nbformat": 4,
 "nbformat_minor": 1
}
